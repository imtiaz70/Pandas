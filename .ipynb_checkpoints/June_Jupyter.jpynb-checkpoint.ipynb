{
 "cells": [
  {
   "cell_type": "markdown",
   "id": "2633b33d",
   "metadata": {},
   "source": [
    "# Muhammad Imtiaz Anwar"
   ]
  },
  {
   "cell_type": "markdown",
   "id": "54b58500",
   "metadata": {},
   "source": [
    "## Software Engineer"
   ]
  },
  {
   "cell_type": "code",
   "execution_count": null,
   "id": "45a49835",
   "metadata": {},
   "outputs": [],
   "source": [
    "import numpy as np\n",
    "import pandas as pd\n",
    "\n",
    "dates = pd.dates(\"20220601\" , period(6))\n",
    "print(dates)"
   ]
  }
 ],
 "metadata": {
  "kernelspec": {
   "display_name": "Python 3 (ipykernel)",
   "language": "python",
   "name": "python3"
  },
  "language_info": {
   "codemirror_mode": {
    "name": "ipython",
    "version": 3
   },
   "file_extension": ".py",
   "mimetype": "text/x-python",
   "name": "python",
   "nbconvert_exporter": "python",
   "pygments_lexer": "ipython3",
   "version": "3.9.12"
  }
 },
 "nbformat": 4,
 "nbformat_minor": 5
}
