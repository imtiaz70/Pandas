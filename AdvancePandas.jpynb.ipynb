{
 "cells": [
  {
   "cell_type": "markdown",
   "id": "54dd61b3",
   "metadata": {},
   "source": [
    "# Advance Pandas Function Application\n",
    "\n",
    "using Zeeshan Usmani Book Examples"
   ]
  },
  {
   "cell_type": "code",
   "execution_count": 1,
   "id": "ba616e3e",
   "metadata": {},
   "outputs": [
    {
     "name": "stdout",
     "output_type": "stream",
     "text": [
      "          0         1         2\n",
      "0  0.001926  0.699074  0.863466\n",
      "1  0.084628  0.646888  0.310246\n",
      "2  0.835485  0.456334  0.312444\n",
      "3  0.535177  0.122509  0.992176\n",
      "4  0.973626  0.009367  0.135451\n"
     ]
    }
   ],
   "source": [
    "import numpy as np\n",
    "import pandas as pd\n",
    "\n",
    "df = pd.DataFrame(np.random.rand(5,3))\n",
    "print(df)\n",
    "def addderFun(eli1,eli2):\n",
    "    print(eli1+eli2)\n"
   ]
  },
  {
   "cell_type": "code",
   "execution_count": null,
   "id": "734227b2",
   "metadata": {},
   "outputs": [],
   "source": []
  }
 ],
 "metadata": {
  "interpreter": {
   "hash": "aee8b7b246df8f9039afb4144a1f6fd8d2ca17a180786b69acc140d282b71a49"
  },
  "kernelspec": {
   "display_name": "Python 3.10.4 64-bit",
   "language": "python",
   "name": "python3"
  },
  "language_info": {
   "codemirror_mode": {
    "name": "ipython",
    "version": 3
   },
   "file_extension": ".py",
   "mimetype": "text/x-python",
   "name": "python",
   "nbconvert_exporter": "python",
   "pygments_lexer": "ipython3",
   "version": "3.10.4"
  }
 },
 "nbformat": 4,
 "nbformat_minor": 5
}
