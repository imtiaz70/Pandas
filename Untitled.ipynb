{
 "cells": [
  {
   "cell_type": "markdown",
   "id": "746abd39",
   "metadata": {},
   "source": [
    "# Learning Python\n"
   ]
  },
  {
   "cell_type": "code",
   "execution_count": 17,
   "id": "e76a2b27",
   "metadata": {
    "scrolled": true
   },
   "outputs": [
    {
     "name": "stdout",
     "output_type": "stream",
     "text": [
      "[[0. 0.]\n",
      " [0. 0.]]\n"
     ]
    },
    {
     "data": {
      "text/html": [
       "<div>\n",
       "<style scoped>\n",
       "    .dataframe tbody tr th:only-of-type {\n",
       "        vertical-align: middle;\n",
       "    }\n",
       "\n",
       "    .dataframe tbody tr th {\n",
       "        vertical-align: top;\n",
       "    }\n",
       "\n",
       "    .dataframe thead th {\n",
       "        text-align: right;\n",
       "    }\n",
       "</style>\n",
       "<table border=\"1\" class=\"dataframe\">\n",
       "  <thead>\n",
       "    <tr style=\"text-align: right;\">\n",
       "      <th></th>\n",
       "      <th>A</th>\n",
       "      <th>B</th>\n",
       "      <th>C</th>\n",
       "      <th>D</th>\n",
       "    </tr>\n",
       "  </thead>\n",
       "  <tbody>\n",
       "    <tr>\n",
       "      <th>2022-01-01</th>\n",
       "      <td>0.074769</td>\n",
       "      <td>1.103882</td>\n",
       "      <td>1.058766</td>\n",
       "      <td>-0.731777</td>\n",
       "    </tr>\n",
       "    <tr>\n",
       "      <th>2022-01-02</th>\n",
       "      <td>0.102888</td>\n",
       "      <td>-0.187130</td>\n",
       "      <td>-0.421176</td>\n",
       "      <td>-0.204162</td>\n",
       "    </tr>\n",
       "    <tr>\n",
       "      <th>2022-01-03</th>\n",
       "      <td>-0.524496</td>\n",
       "      <td>0.018600</td>\n",
       "      <td>-0.766390</td>\n",
       "      <td>-0.482140</td>\n",
       "    </tr>\n",
       "    <tr>\n",
       "      <th>2022-01-04</th>\n",
       "      <td>0.505611</td>\n",
       "      <td>-0.707000</td>\n",
       "      <td>0.140017</td>\n",
       "      <td>-0.325272</td>\n",
       "    </tr>\n",
       "    <tr>\n",
       "      <th>2022-01-05</th>\n",
       "      <td>1.691875</td>\n",
       "      <td>-0.253711</td>\n",
       "      <td>-0.071596</td>\n",
       "      <td>-0.383722</td>\n",
       "    </tr>\n",
       "    <tr>\n",
       "      <th>2022-01-06</th>\n",
       "      <td>1.808935</td>\n",
       "      <td>0.100137</td>\n",
       "      <td>-2.165276</td>\n",
       "      <td>-0.302325</td>\n",
       "    </tr>\n",
       "  </tbody>\n",
       "</table>\n",
       "</div>"
      ],
      "text/plain": [
       "                   A         B         C         D\n",
       "2022-01-01  0.074769  1.103882  1.058766 -0.731777\n",
       "2022-01-02  0.102888 -0.187130 -0.421176 -0.204162\n",
       "2022-01-03 -0.524496  0.018600 -0.766390 -0.482140\n",
       "2022-01-04  0.505611 -0.707000  0.140017 -0.325272\n",
       "2022-01-05  1.691875 -0.253711 -0.071596 -0.383722\n",
       "2022-01-06  1.808935  0.100137 -2.165276 -0.302325"
      ]
     },
     "execution_count": 17,
     "metadata": {},
     "output_type": "execute_result"
    }
   ],
   "source": [
    "import numpy.matlib\n",
    "import numpy as np\n",
    "import pandas as pd\n",
    "\n",
    "\n",
    "print(np.matlib.zeros((2,2)))\n",
    "x = np.arange(12).reshape(3,4)\n",
    "y = pd.Series([1,2,3,4,56,6,7])\n",
    "y\n",
    "dates = pd.date_range(\"20220101\" , periods=6)\n",
    "dates = pd.DataFrame(np.random.randn(6,4) , index= dates , columns=list(\"ABCD\"))\n",
    "dates\n"
   ]
  },
  {
   "cell_type": "markdown",
   "id": "3184d2c7",
   "metadata": {},
   "source": [
    "# make new markdown files in Pandas Folder\n",
    "\n",
    "Going to take Bath\n"
   ]
  },
  {
   "cell_type": "markdown",
   "id": "5d260c55",
   "metadata": {},
   "source": []
  }
 ],
 "metadata": {
  "interpreter": {
   "hash": "aee8b7b246df8f9039afb4144a1f6fd8d2ca17a180786b69acc140d282b71a49"
  },
  "kernelspec": {
   "display_name": "Python 3.10.4 64-bit",
   "language": "python",
   "name": "python3"
  },
  "language_info": {
   "codemirror_mode": {
    "name": "ipython",
    "version": 3
   },
   "file_extension": ".py",
   "mimetype": "text/x-python",
   "name": "python",
   "nbconvert_exporter": "python",
   "pygments_lexer": "ipython3",
   "version": "3.10.4"
  }
 },
 "nbformat": 4,
 "nbformat_minor": 5
}
